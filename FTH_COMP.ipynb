{
 "cells": [
  {
   "cell_type": "markdown",
   "metadata": {},
   "source": [
    "![](Bilder/MBILogo.png)\n",
    "\n",
    "# FP O4: Fourier-Transform Holography\n",
    "## _Simulation part_\n",
    "\n",
    "This notebook is used for simulating a Fourier-transform holography experiment. The whole (virtual) experiment is executed in the notebook and all documentation, analysis and discussion should be left here. In the end, you can generate a pdf from this notebook and hand it in as experimental report. Use these text boxes and [Markdown formatting](https://de.wikipedia.org/wiki/Markdown) to produce your text. If you prefer, you can change the language of this document to German.\n",
    "\n",
    "## Important: File saving\n",
    "\n",
    "The binder session uses a local copy of all data. Once the binder session is terminated or receives a time out, all local data will be _irrevocably lost._ To save your data, open a terminal in the main jupyter window (`new` → `terminal`) and run `./git.sh` or `sh git.sh` using the credientials provided."
   ]
  },
  {
   "cell_type": "markdown",
   "metadata": {},
   "source": [
    "## Import Libraries\n",
    "\n",
    "This needs to be executed once in the beginning when you start the kernel on which the notebook operates. The libaries loaded include functions for numerical operations, scientific plotting and image manipulation."
   ]
  },
  {
   "cell_type": "code",
   "execution_count": 1,
   "metadata": {
    "execution": {
     "iopub.execute_input": "2021-04-26T11:37:46.181857Z",
     "iopub.status.busy": "2021-04-26T11:37:46.181708Z",
     "iopub.status.idle": "2021-04-26T11:37:46.516177Z",
     "shell.execute_reply": "2021-04-26T11:37:46.515732Z",
     "shell.execute_reply.started": "2021-04-26T11:37:46.181837Z"
    }
   },
   "outputs": [],
   "source": [
    "# NumPy – The fundamental package for scientific computing with Python\n",
    "# https://numpy.org/\n",
    "import numpy as np\n",
    "\n",
    "# Matplotlib – Visualization with Python\n",
    "# https://matplotlib.org/\n",
    "import matplotlib.pyplot as plt\n",
    "#for interactive plots\n",
    "%matplotlib widget"
   ]
  },
  {
   "cell_type": "markdown",
   "metadata": {},
   "source": [
    "## Load the Data\n",
    "\n",
    "The objects are represented by binary image files. You can concieve this image as the amplitude of the electromagnetic wave in the plane after it has passed an aperture shaped like this image. In this simulation, we consider the phase to be constant (zero) everywhere. \n",
    "\n",
    "Please specify the **entire file path and the file name**. Every time you want to analyze a new virtual object, you have to load the image file here and then execute every step. We recomment to either copy the code for each object or to create a new file (`File` → `Make a copy`).\n",
    "\n",
    "Replace `file` by the following file names for the objects:\n",
    "1. Sim_1_ohne_Ref.tif\n",
    "2. Sim_2_eine_Ref.tif\n",
    "3. Sim_3_multi_Ref.tif\n",
    "4. Sim_4_multi_Obj.tif\n",
    "\n",
    "Use the `prefix` to change file names for the output of the notebook."
   ]
  },
  {
   "cell_type": "code",
   "execution_count": 2,
   "metadata": {
    "execution": {
     "iopub.execute_input": "2021-04-26T11:37:48.883157Z",
     "iopub.status.busy": "2021-04-26T11:37:48.883007Z",
     "iopub.status.idle": "2021-04-26T11:37:48.893787Z",
     "shell.execute_reply": "2021-04-26T11:37:48.893399Z",
     "shell.execute_reply.started": "2021-04-26T11:37:48.883141Z"
    }
   },
   "outputs": [],
   "source": [
    "file = r\"Sim_3_multi_Ref.tif\" #The file has to be in the same folder as this script.\n",
    "your_folder = r'' #The folder where you want to save your data in. Make sure that the folder exists.\n",
    "prefix = 'Sim_1_ohne_Ref' #This string will be added in front of your saved image. Choose it according to your current simulation.\n",
    "\n",
    "obj = plt.imread(file)/255"
   ]
  },
  {
   "cell_type": "markdown",
   "metadata": {},
   "source": [
    "### Plot the object"
   ]
  },
  {
   "cell_type": "code",
   "execution_count": 3,
   "metadata": {
    "execution": {
     "iopub.execute_input": "2021-04-26T11:37:50.622189Z",
     "iopub.status.busy": "2021-04-26T11:37:50.621994Z",
     "iopub.status.idle": "2021-04-26T11:37:50.692956Z",
     "shell.execute_reply": "2021-04-26T11:37:50.692166Z",
     "shell.execute_reply.started": "2021-04-26T11:37:50.622167Z"
    }
   },
   "outputs": [
    {
     "data": {
      "application/vnd.jupyter.widget-view+json": {
       "model_id": "afd4987df1544557b4a01eac91a189ed",
       "version_major": 2,
       "version_minor": 0
      },
      "text/plain": [
       "Canvas(toolbar=Toolbar(toolitems=[('Home', 'Reset original view', 'home', 'home'), ('Back', 'Back to previous …"
      ]
     },
     "metadata": {},
     "output_type": "display_data"
    },
    {
     "data": {
      "text/plain": [
       "<matplotlib.colorbar.Colorbar at 0x7f1fd002c460>"
      ]
     },
     "execution_count": 3,
     "metadata": {},
     "output_type": "execute_result"
    }
   ],
   "source": [
    "fig, ax = plt.subplots()\n",
    "ax = plt.imshow(obj, cmap = 'gray')\n",
    "fig.colorbar(ax, fraction=0.046, pad=0.04)"
   ]
  },
  {
   "cell_type": "markdown",
   "metadata": {},
   "source": [
    "## Fourier Transformation – Propagate to far field\n",
    "\n",
    "The wave field is propagated into the far field based on the Fraunhofer approximation which states that the far-field diffraction pattern of an object is basically given by the Fourier transformation (FT) of the object. We omit some additional phase terms here (why can we do this?). As our virtual detector only detects intensity, we calculate the magnitude squared of the FT. The numerical fast Fourier transformation function (fft2) expects the center of the coordinate system to be located in pixel (0,0) which is counterintuitive to the typical detector position in the experiment where the beam is centered on the chip, i.e. the center is located at pixel (n/2,n/2). The fftshift function translates between the two representations."
   ]
  },
  {
   "cell_type": "code",
   "execution_count": 4,
   "metadata": {
    "execution": {
     "iopub.execute_input": "2021-04-26T11:39:21.452895Z",
     "iopub.status.busy": "2021-04-26T11:39:21.452681Z",
     "iopub.status.idle": "2021-04-26T11:39:21.512468Z",
     "shell.execute_reply": "2021-04-26T11:39:21.511946Z",
     "shell.execute_reply.started": "2021-04-26T11:39:21.452870Z"
    }
   },
   "outputs": [],
   "source": [
    "hologram = np.abs(np.fft.fftshift(np.fft.fft2(obj)))**2"
   ]
  },
  {
   "cell_type": "markdown",
   "metadata": {},
   "source": [
    "### Plot the image\n",
    "\n",
    "Plot the diffraction pattern, i.e. the Fourier transformation with a linear intensity scale (with limits) and as a logarithmic plot.\n",
    "\n",
    "You can adjust the scale of the linear intensity scale by specifying the minimal (*vmin*) and maximal (*vmax*) displayed value. You can do this with choosing the percentiles in the first line but you can also type in any number you like.\n",
    "\n",
    "The result is automatically saved as numpy file and as png file. Do not forget to change the `prefix` string in the second code cell to avoid that the file is overwritten."
   ]
  },
  {
   "cell_type": "code",
   "execution_count": 7,
   "metadata": {
    "execution": {
     "iopub.execute_input": "2021-04-26T11:40:54.836960Z",
     "iopub.status.busy": "2021-04-26T11:40:54.836806Z",
     "iopub.status.idle": "2021-04-26T11:40:55.186841Z",
     "shell.execute_reply": "2021-04-26T11:40:55.186359Z",
     "shell.execute_reply.started": "2021-04-26T11:40:54.836943Z"
    },
    "scrolled": true
   },
   "outputs": [
    {
     "data": {
      "application/vnd.jupyter.widget-view+json": {
       "model_id": "58e97fc741ed40649473520daa87a932",
       "version_major": 2,
       "version_minor": 0
      },
      "text/plain": [
       "Canvas(toolbar=Toolbar(toolitems=[('Home', 'Reset original view', 'home', 'home'), ('Back', 'Back to previous …"
      ]
     },
     "metadata": {},
     "output_type": "display_data"
    }
   ],
   "source": [
    "MinV, MaxV = np.percentile(hologram,(2,98))\n",
    "\n",
    "fig, axs = plt.subplots(1,2)\n",
    "\n",
    "ax1 = axs[0].imshow(hologram, cmap = 'gray', vmin = MinV, vmax = MaxV)\n",
    "fig.colorbar(ax1, ax=axs[0], fraction=0.046, pad=0.04)\n",
    "axs[0].set_title('Fourier trans. (abs squared)')\n",
    "\n",
    "ax2 = axs[1].imshow(np.log10(hologram), cmap = 'gray', vmin=0)\n",
    "fig.colorbar(ax2, ax=axs[1], fraction=0.046, pad=0.04)\n",
    "axs[1].set_title('Fourier trans. (log abs squared)')\n",
    "\n",
    "fig.tight_layout()\n",
    "\n",
    "#save image and data\n",
    "plt.savefig(your_folder + prefix + 'holo.png')\n",
    "np.save(your_folder + prefix + 'holo', hologram) #saves as numpy array. can be opened in another notebook with np.load('filepath')"
   ]
  },
  {
   "cell_type": "markdown",
   "metadata": {},
   "source": [
    "## Fourier transformation – Reconstruct\n",
    "\n",
    "Now the artificial hologram is reconstructed using an inverse Fourier transformation. This is the only step that you will execute with the experimental data."
   ]
  },
  {
   "cell_type": "code",
   "execution_count": 8,
   "metadata": {
    "execution": {
     "iopub.execute_input": "2021-04-26T11:41:05.268925Z",
     "iopub.status.busy": "2021-04-26T11:41:05.268747Z",
     "iopub.status.idle": "2021-04-26T11:41:05.316428Z",
     "shell.execute_reply": "2021-04-26T11:41:05.315824Z",
     "shell.execute_reply.started": "2021-04-26T11:41:05.268907Z"
    }
   },
   "outputs": [],
   "source": [
    "recon = np.abs(np.fft.ifftshift(np.fft.ifft2(np.fft.fftshift(hologram))))"
   ]
  },
  {
   "cell_type": "markdown",
   "metadata": {},
   "source": [
    "### Plot the image\n",
    "\n",
    "As before..."
   ]
  },
  {
   "cell_type": "code",
   "execution_count": 9,
   "metadata": {
    "execution": {
     "iopub.execute_input": "2021-04-26T11:41:12.604821Z",
     "iopub.status.busy": "2021-04-26T11:41:12.604595Z",
     "iopub.status.idle": "2021-04-26T11:41:12.842687Z",
     "shell.execute_reply": "2021-04-26T11:41:12.842165Z",
     "shell.execute_reply.started": "2021-04-26T11:41:12.604795Z"
    }
   },
   "outputs": [
    {
     "data": {
      "application/vnd.jupyter.widget-view+json": {
       "model_id": "9d234722c1494833a47e1836a4fb1787",
       "version_major": 2,
       "version_minor": 0
      },
      "text/plain": [
       "Canvas(toolbar=Toolbar(toolitems=[('Home', 'Reset original view', 'home', 'home'), ('Back', 'Back to previous …"
      ]
     },
     "metadata": {},
     "output_type": "display_data"
    }
   ],
   "source": [
    "MinV, MaxV = np.percentile(recon,(3,90))\n",
    "\n",
    "fig, ax = plt.subplots()\n",
    "\n",
    "ax = plt.imshow(recon, cmap = 'gray', vmin = MinV, vmax = MaxV)\n",
    "plt.colorbar()\n",
    "plt.title('Reconstruction (abs)')\n",
    "\n",
    "fig.tight_layout()\n",
    "\n",
    "#save image and data\n",
    "plt.savefig(your_folder + prefix + 'recon.png')\n",
    "np.save(your_folder + prefix + 'recon', recon) #saves as numpy array. can be opened in another notebook with np.load('filepath')"
   ]
  },
  {
   "cell_type": "markdown",
   "metadata": {},
   "source": [
    "## Tasks\n",
    "\n",
    "### Objects 1 and 2\n",
    "* Describe the function of FTH using the first two object examples.\n",
    "* How is the image created in FTH?\n",
    "* Why do we observe two images?\n",
    "* Where is the image located in the reconstruction matrix?\n",
    "* What determines its resolution and its brightness?\n",
    "\n",
    "### Object 3\n",
    "* Compare and explain the different images with respect to their resolution and intensity.\n",
    "* Use the Square object and the `lineout` function (below) to quantify your results. \n",
    "    * Plot the intensity and resolution as a function of a suitable paramter. (Which is it?)\n",
    "    * Find the physical relationship between the choses paramter and the intensity and resolution, respectively. (Fit!)\n",
    "\n",
    "### Object 4\n",
    "* Explain the multitude of images appearing in the reconstruction matrix. \n",
    "* Download the object and reconstruction images (you'll find a png in your folder) and use some kind of color coding to mark the referecne–object relations.\n",
    "* Upload your modified images to the notebook afterwards. (You can do this in the main window and display the image here using markdown code. You can find an example on how to include an image in the first Markdowncell of this notebook)."
   ]
  },
  {
   "cell_type": "markdown",
   "metadata": {},
   "source": [
    "### Lineout\n",
    "\n",
    "Do reasonable intensity lineouts to determine the intensity and the resolution using the 10%–90% criterion.\n",
    "\n",
    "You can determine the pixel positions by using the cursor over your image. You can also select an area of the image to enlarge it by using the butten left of the floppy disc.\n",
    "\n",
    "The lineout function returns the value for the intensity and the resolution."
   ]
  },
  {
   "cell_type": "code",
   "execution_count": null,
   "metadata": {},
   "outputs": [],
   "source": [
    "def lineout(image, startX, endX, startY, endY, file_prefix):\n",
    "    lineout = np.sum(image[startY:endY, startX:endX], 0)\n",
    "    \n",
    "    ma = np.max(lineout)\n",
    "    mi = np.min(lineout)\n",
    "    \n",
    "    if np.where(lineout == ma)[0][0] < np.where(lineout == mi)[0][0]:\n",
    "        ten = np.interp(-.1 * (ma-mi) + mi, -lineout, range(startX, endX))\n",
    "        ninety = np.interp(-.9 * (ma-mi) + mi, -lineout, range(startX, endX))\n",
    "    else:\n",
    "        ten = np.interp(.1 * (ma-mi) + mi, lineout, range(startX, endX))\n",
    "        ninety = np.interp(.9 * (ma-mi) + mi, lineout, range(startX, endX))\n",
    "    \n",
    "    #plot the lineout\n",
    "    fig, ax = plt.subplots()\n",
    "    ax.plot(range(startX, endX), lineout)\n",
    "    ax.axvline(ten, c = 'tab:orange', lw = 1)\n",
    "    ax.axvline(ninety, c = 'tab:orange', lw = 1)\n",
    "    plt.title(\"Lineout for resolution\")\n",
    "    plt.xlabel(\"Pixel\")\n",
    "    plt.ylabel(\"Intensity [a.u.]\")\n",
    "    \n",
    "    #save the lineout\n",
    "    np.savetxt(your_folder + file_prefix + 'lineout.txt', lineout)\n",
    "    return (ma - mi), np.abs(ninety - ten)"
   ]
  },
  {
   "cell_type": "code",
   "execution_count": null,
   "metadata": {},
   "outputs": [],
   "source": [
    "contrast, resolution = lineout(image=recon, startX = 650, endX = 700, startY = 160, endY = 161, file_prefix=prefix)"
   ]
  },
  {
   "cell_type": "markdown",
   "metadata": {},
   "source": [
    "If you want to load an existing txt-file of a lineout, you can do this here"
   ]
  },
  {
   "cell_type": "code",
   "execution_count": null,
   "metadata": {},
   "outputs": [],
   "source": [
    "line = np.fromfile(your_folder + 'Sim_3_lineout3.txt', dtype=np.float, sep='\\n')"
   ]
  },
  {
   "cell_type": "code",
   "execution_count": null,
   "metadata": {},
   "outputs": [],
   "source": [
    "fig, ax = plt.subplots()\n",
    "ax.plot(line)"
   ]
  }
 ],
 "metadata": {
  "kernelspec": {
   "display_name": "Python 3",
   "language": "python",
   "name": "python3"
  },
  "language_info": {
   "codemirror_mode": {
    "name": "ipython",
    "version": 3
   },
   "file_extension": ".py",
   "mimetype": "text/x-python",
   "name": "python",
   "nbconvert_exporter": "python",
   "pygments_lexer": "ipython3",
   "version": "3.8.3"
  },
  "toc": {
   "base_numbering": 1,
   "nav_menu": {
    "height": "264px",
    "width": "267px"
   },
   "number_sections": true,
   "sideBar": true,
   "skip_h1_title": false,
   "title_cell": "Table of Contents",
   "title_sidebar": "Contents",
   "toc_cell": false,
   "toc_position": {
    "height": "calc(100% - 180px)",
    "left": "10px",
    "top": "150px",
    "width": "272px"
   },
   "toc_section_display": true,
   "toc_window_display": true
  },
  "toc-autonumbering": false,
  "varInspector": {
   "cols": {
    "lenName": 16,
    "lenType": 16,
    "lenVar": 40
   },
   "kernels_config": {
    "python": {
     "delete_cmd_postfix": "",
     "delete_cmd_prefix": "del ",
     "library": "var_list.py",
     "varRefreshCmd": "print(var_dic_list())"
    },
    "r": {
     "delete_cmd_postfix": ") ",
     "delete_cmd_prefix": "rm(",
     "library": "var_list.r",
     "varRefreshCmd": "cat(var_dic_list()) "
    }
   },
   "oldHeight": 122,
   "position": {
    "height": "779px",
    "left": "1471px",
    "right": "28px",
    "top": "110px",
    "width": "421px"
   },
   "types_to_exclude": [
    "module",
    "function",
    "builtin_function_or_method",
    "instance",
    "_Feature"
   ],
   "varInspector_section_display": "block",
   "window_display": true
  }
 },
 "nbformat": 4,
 "nbformat_minor": 4
}
